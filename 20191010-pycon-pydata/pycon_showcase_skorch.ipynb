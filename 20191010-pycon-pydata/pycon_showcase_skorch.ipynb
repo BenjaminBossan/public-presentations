{
 "cells": [
  {
   "cell_type": "markdown",
   "metadata": {},
   "source": [
    "TODO: add basic description"
   ]
  },
  {
   "cell_type": "code",
   "execution_count": null,
   "metadata": {},
   "outputs": [],
   "source": []
  },
  {
   "cell_type": "markdown",
   "metadata": {},
   "source": [
    "## Basic setup"
   ]
  },
  {
   "cell_type": "markdown",
   "metadata": {},
   "source": [
    "### imports"
   ]
  },
  {
   "cell_type": "code",
   "execution_count": null,
   "metadata": {},
   "outputs": [],
   "source": [
    "import numpy as np\n",
    "from sklearn.datasets import make_classification\n",
    "import torch\n",
    "from torch import nn\n",
    "import torch.nn.functional as F"
   ]
  },
  {
   "cell_type": "markdown",
   "metadata": {},
   "source": [
    "### constants"
   ]
  },
  {
   "cell_type": "code",
   "execution_count": 1,
   "metadata": {},
   "outputs": [],
   "source": [
    "np.random.seed(0)\n",
    "torch.manual_seed(0)\n",
    "torch.cuda.manual_seed(0);"
   ]
  },
  {
   "cell_type": "code",
   "execution_count": 2,
   "metadata": {},
   "outputs": [],
   "source": [
    "DEVICE = 'cpu'  # change to 'cuda' if so desired"
   ]
  },
  {
   "cell_type": "markdown",
   "metadata": {},
   "source": [
    "### A toy binary classification task"
   ]
  },
  {
   "cell_type": "code",
   "execution_count": 3,
   "metadata": {},
   "outputs": [],
   "source": [
    "X, y = make_classification(10000, 20, n_informative=10, random_state=0)\n",
    "X = X.astype(np.float32)"
   ]
  },
  {
   "cell_type": "code",
   "execution_count": 4,
   "metadata": {
    "scrolled": true
   },
   "outputs": [
    {
     "data": {
      "text/plain": [
       "((10000, 20), (10000,), 0.5003)"
      ]
     },
     "execution_count": 4,
     "metadata": {},
     "output_type": "execute_result"
    }
   ],
   "source": [
    "X.shape, y.shape, y.mean()"
   ]
  },
  {
   "cell_type": "markdown",
   "metadata": {},
   "source": [
    "### Definition of the `pytorch` classification `module`"
   ]
  },
  {
   "cell_type": "markdown",
   "metadata": {},
   "source": [
    "We define a vanilla neural network with two hidden layers. The output layer should have 2 output units since there are two classes. In addition, it should have a softmax nonlinearity, because later, when calling `predict_proba`, the output from the `forward` call will be used."
   ]
  },
  {
   "cell_type": "code",
   "execution_count": 5,
   "metadata": {},
   "outputs": [],
   "source": [
    "class MyModule(nn.Module):\n",
    "    def __init__(self, num_units=10, dropout=0.5):\n",
    "        super().__init__()\n",
    "\n",
    "        self.dense = nn.Linear(20, num_units)\n",
    "        self.dropout = nn.Dropout(dropout)\n",
    "        self.output = nn.Linear(num_units, 2)\n",
    "\n",
    "    def forward(self, X, **kwargs):\n",
    "        X = F.relu(self.dense(X))\n",
    "        X = self.dropout(X)\n",
    "        X = F.softmax(self.output(X), dim=-1)\n",
    "        return X"
   ]
  },
  {
   "cell_type": "markdown",
   "metadata": {},
   "source": [
    "## Reduction of boilerplate code"
   ]
  },
  {
   "cell_type": "markdown",
   "metadata": {},
   "source": [
    "### Pure PyTorch implementation"
   ]
  },
  {
   "cell_type": "code",
   "execution_count": 6,
   "metadata": {},
   "outputs": [],
   "source": [
    "import time\n",
    "from sklearn.model_selection import train_test_split\n",
    "from sklearn.metrics import accuracy_score"
   ]
  },
  {
   "cell_type": "code",
   "execution_count": 7,
   "metadata": {},
   "outputs": [],
   "source": [
    "X_train, X_valid, y_train, y_valid = train_test_split(X, y, random_state=0)"
   ]
  },
  {
   "cell_type": "code",
   "execution_count": 9,
   "metadata": {},
   "outputs": [],
   "source": [
    "ds_train = torch.utils.data.TensorDataset(torch.from_numpy(X_train), torch.from_numpy(y_train))\n",
    "loader_train = torch.utils.data.DataLoader(ds_train, batch_size=256, shuffle=True)\n",
    "ds_valid = torch.utils.data.TensorDataset(torch.from_numpy(X_valid), torch.from_numpy(y_valid))\n",
    "loader_valid = torch.utils.data.DataLoader(ds_valid, batch_size=256)\n",
    "module = MyModule()\n",
    "optimizer = torch.optim.SGD(module.parameters(), lr=0.02)\n",
    "criterion = nn.NLLLoss()\n",
    "template = \"epoch: {} | loss train: {:.4f} | loss valid: {:.4f} | acc valid: {:.4f} | dur: {:.3f}\""
   ]
  },
  {
   "cell_type": "code",
   "execution_count": 10,
   "metadata": {},
   "outputs": [
    {
     "name": "stdout",
     "output_type": "stream",
     "text": [
      "epoch: 1 | loss train: 0.6806 | loss valid: 0.6352 | acc valid: 0.6173 | dur: 0.130\n",
      "epoch: 2 | loss train: 0.6395 | loss valid: 0.6256 | acc valid: 0.6316 | dur: 0.076\n",
      "epoch: 3 | loss train: 0.6225 | loss valid: 0.6095 | acc valid: 0.6558 | dur: 0.105\n",
      "epoch: 4 | loss train: 0.6078 | loss valid: 0.6011 | acc valid: 0.6606 | dur: 0.080\n",
      "epoch: 5 | loss train: 0.5979 | loss valid: 0.5895 | acc valid: 0.6721 | dur: 0.075\n",
      "epoch: 6 | loss train: 0.5802 | loss valid: 0.5760 | acc valid: 0.6757 | dur: 0.076\n",
      "epoch: 7 | loss train: 0.5689 | loss valid: 0.5670 | acc valid: 0.6865 | dur: 0.084\n",
      "epoch: 8 | loss train: 0.5572 | loss valid: 0.5520 | acc valid: 0.7170 | dur: 0.078\n",
      "epoch: 9 | loss train: 0.5446 | loss valid: 0.5493 | acc valid: 0.7095 | dur: 0.076\n",
      "epoch: 10 | loss train: 0.5452 | loss valid: 0.5328 | acc valid: 0.7179 | dur: 0.082\n",
      "epoch: 11 | loss train: 0.5286 | loss valid: 0.5331 | acc valid: 0.7279 | dur: 0.075\n",
      "epoch: 12 | loss train: 0.5234 | loss valid: 0.5055 | acc valid: 0.7342 | dur: 0.075\n",
      "epoch: 13 | loss train: 0.5152 | loss valid: 0.5137 | acc valid: 0.7278 | dur: 0.113\n",
      "epoch: 14 | loss train: 0.5111 | loss valid: 0.5087 | acc valid: 0.7460 | dur: 0.085\n",
      "epoch: 15 | loss train: 0.5040 | loss valid: 0.4959 | acc valid: 0.7561 | dur: 0.079\n",
      "epoch: 16 | loss train: 0.5044 | loss valid: 0.4952 | acc valid: 0.7377 | dur: 0.089\n",
      "epoch: 17 | loss train: 0.4922 | loss valid: 0.4957 | acc valid: 0.7435 | dur: 0.086\n",
      "epoch: 18 | loss train: 0.4814 | loss valid: 0.4725 | acc valid: 0.7669 | dur: 0.080\n",
      "epoch: 19 | loss train: 0.4860 | loss valid: 0.4782 | acc valid: 0.7554 | dur: 0.091\n",
      "epoch: 20 | loss train: 0.4791 | loss valid: 0.4780 | acc valid: 0.7574 | dur: 0.085\n"
     ]
    }
   ],
   "source": [
    "for epoch in range(20):\n",
    "    tic = time.time()\n",
    "    losses_train = []\n",
    "    for Xb, yb in loader_train:\n",
    "        y_proba = module(Xb)\n",
    "        loss = criterion(torch.log(y_proba), yb)\n",
    "        loss.backward()\n",
    "        optimizer.step()\n",
    "        optimizer.zero_grad()\n",
    "        losses_train.append(loss.item())\n",
    "        \n",
    "    losses_valid = []\n",
    "    accuracy_valid = []\n",
    "    for Xb, yb in loader_valid:\n",
    "        y_proba = module(Xb)\n",
    "        loss = criterion(torch.log(y_proba), yb)\n",
    "        optimizer.step()\n",
    "        optimizer.zero_grad()\n",
    "        losses_valid.append(loss.item())\n",
    "        accuracy_valid.append(accuracy_score(yb.numpy(), y_proba.argmax(1).numpy()))\n",
    "        \n",
    "    toc = time.time() - tic\n",
    "    print(template.format(\n",
    "        epoch + 1, np.mean(losses_train), np.mean(losses_valid), np.mean(accuracy_valid), toc))"
   ]
  },
  {
   "cell_type": "markdown",
   "metadata": {},
   "source": [
    "### The same with skorch"
   ]
  },
  {
   "cell_type": "code",
   "execution_count": 11,
   "metadata": {},
   "outputs": [],
   "source": [
    "from skorch import NeuralNetClassifier"
   ]
  },
  {
   "cell_type": "code",
   "execution_count": 12,
   "metadata": {},
   "outputs": [],
   "source": [
    "net = NeuralNetClassifier(\n",
    "    MyModule,\n",
    "    module__num_units=50,\n",
    "    max_epochs=20,\n",
    "    lr=0.02,\n",
    "    batch_size=256,\n",
    "    iterator_train__shuffle=True,\n",
    "    device=DEVICE,\n",
    ")"
   ]
  },
  {
   "cell_type": "code",
   "execution_count": 13,
   "metadata": {},
   "outputs": [
    {
     "name": "stdout",
     "output_type": "stream",
     "text": [
      "  epoch    train_loss    valid_acc    valid_loss     dur\n",
      "-------  ------------  -----------  ------------  ------\n",
      "      1        \u001b[36m0.7074\u001b[0m       \u001b[32m0.7066\u001b[0m        \u001b[35m0.6111\u001b[0m  0.1349\n",
      "      2        \u001b[36m0.6085\u001b[0m       \u001b[32m0.7671\u001b[0m        \u001b[35m0.5597\u001b[0m  0.1339\n",
      "      3        \u001b[36m0.5686\u001b[0m       \u001b[32m0.7881\u001b[0m        \u001b[35m0.5253\u001b[0m  0.1347\n",
      "      4        \u001b[36m0.5526\u001b[0m       \u001b[32m0.8046\u001b[0m        \u001b[35m0.5001\u001b[0m  0.1355\n",
      "      5        \u001b[36m0.5281\u001b[0m       \u001b[32m0.8121\u001b[0m        \u001b[35m0.4778\u001b[0m  0.1277\n",
      "      6        \u001b[36m0.5121\u001b[0m       \u001b[32m0.8276\u001b[0m        \u001b[35m0.4586\u001b[0m  0.1389\n",
      "      7        \u001b[36m0.4927\u001b[0m       \u001b[32m0.8306\u001b[0m        \u001b[35m0.4411\u001b[0m  0.1315\n",
      "      8        \u001b[36m0.4814\u001b[0m       \u001b[32m0.8396\u001b[0m        \u001b[35m0.4276\u001b[0m  0.1286\n",
      "      9        \u001b[36m0.4763\u001b[0m       \u001b[32m0.8421\u001b[0m        \u001b[35m0.4153\u001b[0m  0.1386\n",
      "     10        \u001b[36m0.4639\u001b[0m       \u001b[32m0.8491\u001b[0m        \u001b[35m0.4027\u001b[0m  0.1392\n",
      "     11        \u001b[36m0.4609\u001b[0m       \u001b[32m0.8516\u001b[0m        \u001b[35m0.3942\u001b[0m  0.1440\n",
      "     12        \u001b[36m0.4465\u001b[0m       \u001b[32m0.8601\u001b[0m        \u001b[35m0.3841\u001b[0m  0.1560\n",
      "     13        \u001b[36m0.4350\u001b[0m       \u001b[32m0.8611\u001b[0m        \u001b[35m0.3751\u001b[0m  0.1412\n",
      "     14        \u001b[36m0.4282\u001b[0m       \u001b[32m0.8656\u001b[0m        \u001b[35m0.3662\u001b[0m  0.1436\n",
      "     15        \u001b[36m0.4252\u001b[0m       \u001b[32m0.8661\u001b[0m        \u001b[35m0.3603\u001b[0m  0.2499\n",
      "     16        \u001b[36m0.4176\u001b[0m       \u001b[32m0.8691\u001b[0m        \u001b[35m0.3533\u001b[0m  0.1693\n",
      "     17        0.4193       \u001b[32m0.8736\u001b[0m        \u001b[35m0.3468\u001b[0m  0.1872\n",
      "     18        \u001b[36m0.4068\u001b[0m       \u001b[32m0.8766\u001b[0m        \u001b[35m0.3411\u001b[0m  0.1665\n",
      "     19        \u001b[36m0.3971\u001b[0m       \u001b[32m0.8776\u001b[0m        \u001b[35m0.3360\u001b[0m  0.1815\n",
      "     20        \u001b[36m0.3968\u001b[0m       \u001b[32m0.8821\u001b[0m        \u001b[35m0.3313\u001b[0m  0.2337\n"
     ]
    },
    {
     "data": {
      "text/plain": [
       "<class 'skorch.classifier.NeuralNetClassifier'>[initialized](\n",
       "  module_=MyModule(\n",
       "    (dense): Linear(in_features=20, out_features=50, bias=True)\n",
       "    (dropout): Dropout(p=0.5, inplace=False)\n",
       "    (output): Linear(in_features=50, out_features=2, bias=True)\n",
       "  ),\n",
       ")"
      ]
     },
     "execution_count": 13,
     "metadata": {},
     "output_type": "execute_result"
    }
   ],
   "source": [
    "net.fit(X, y)"
   ]
  },
  {
   "cell_type": "markdown",
   "metadata": {},
   "source": [
    "## Compatibility with sklearn API"
   ]
  },
  {
   "cell_type": "markdown",
   "metadata": {},
   "source": [
    "### Support for the basic methods"
   ]
  },
  {
   "cell_type": "code",
   "execution_count": 23,
   "metadata": {},
   "outputs": [],
   "source": [
    "from sklearn.base import clone\n",
    "from sklearn.model_selection import cross_validate"
   ]
  },
  {
   "cell_type": "code",
   "execution_count": 14,
   "metadata": {},
   "outputs": [
    {
     "data": {
      "text/plain": [
       "array([0, 1, 1, 0, 1])"
      ]
     },
     "execution_count": 14,
     "metadata": {},
     "output_type": "execute_result"
    }
   ],
   "source": [
    "y_pred = net.predict(X[:5])\n",
    "y_pred"
   ]
  },
  {
   "cell_type": "code",
   "execution_count": 15,
   "metadata": {},
   "outputs": [
    {
     "data": {
      "text/plain": [
       "array([[0.7972707 , 0.20272928],\n",
       "       [0.16107567, 0.8389244 ],\n",
       "       [0.17463814, 0.82536185],\n",
       "       [0.5755565 , 0.42444348],\n",
       "       [0.3575625 , 0.64243746]], dtype=float32)"
      ]
     },
     "execution_count": 15,
     "metadata": {},
     "output_type": "execute_result"
    }
   ],
   "source": [
    "y_proba = net.predict_proba(X[:5])\n",
    "y_proba"
   ]
  },
  {
   "cell_type": "code",
   "execution_count": 17,
   "metadata": {},
   "outputs": [],
   "source": [
    "net.get_params();"
   ]
  },
  {
   "cell_type": "code",
   "execution_count": 22,
   "metadata": {},
   "outputs": [
    {
     "data": {
      "text/plain": [
       "<class 'skorch.classifier.NeuralNetClassifier'>[initialized](\n",
       "  module_=MyModule(\n",
       "    (dense): Linear(in_features=20, out_features=50, bias=True)\n",
       "    (dropout): Dropout(p=0.5, inplace=False)\n",
       "    (output): Linear(in_features=50, out_features=2, bias=True)\n",
       "  ),\n",
       ")"
      ]
     },
     "execution_count": 22,
     "metadata": {},
     "output_type": "execute_result"
    }
   ],
   "source": [
    "net.set_params(verbose=0)"
   ]
  },
  {
   "cell_type": "code",
   "execution_count": 24,
   "metadata": {},
   "outputs": [],
   "source": [
    "_ = clone(net)"
   ]
  },
  {
   "cell_type": "code",
   "execution_count": 26,
   "metadata": {},
   "outputs": [
    {
     "data": {
      "text/plain": [
       "{'fit_time': array([5.89048505, 6.69337392, 4.49859238]),\n",
       " 'score_time': array([0.05821371, 0.10425282, 0.17354083]),\n",
       " 'test_score': array([0.86562687, 0.85572885, 0.88505402])}"
      ]
     },
     "execution_count": 26,
     "metadata": {},
     "output_type": "execute_result"
    }
   ],
   "source": [
    "cross_validate(net, X, y, cv=3)"
   ]
  },
  {
   "cell_type": "markdown",
   "metadata": {},
   "source": [
    "### Pipeline"
   ]
  },
  {
   "cell_type": "code",
   "execution_count": 27,
   "metadata": {},
   "outputs": [],
   "source": [
    "from sklearn.pipeline import Pipeline\n",
    "from sklearn.preprocessing import StandardScaler"
   ]
  },
  {
   "cell_type": "code",
   "execution_count": 28,
   "metadata": {},
   "outputs": [
    {
     "data": {
      "text/plain": [
       "Pipeline(memory=None,\n",
       "         steps=[('scale',\n",
       "                 StandardScaler(copy=True, with_mean=True, with_std=True)),\n",
       "                ('net',\n",
       "                 <class 'skorch.classifier.NeuralNetClassifier'>[initialized](\n",
       "  module_=MyModule(\n",
       "    (dense): Linear(in_features=20, out_features=50, bias=True)\n",
       "    (dropout): Dropout(p=0.5, inplace=False)\n",
       "    (output): Linear(in_features=50, out_features=2, bias=True)\n",
       "  ),\n",
       "))],\n",
       "         verbose=False)"
      ]
     },
     "execution_count": 28,
     "metadata": {},
     "output_type": "execute_result"
    }
   ],
   "source": [
    "pipe = Pipeline([\n",
    "    ('scale', StandardScaler()),\n",
    "    ('net', net),\n",
    "])\n",
    "\n",
    "pipe.fit(X, y)"
   ]
  },
  {
   "cell_type": "code",
   "execution_count": 31,
   "metadata": {
    "scrolled": true
   },
   "outputs": [
    {
     "data": {
      "text/plain": [
       "array([0, 1, 1, 0, 1])"
      ]
     },
     "execution_count": 31,
     "metadata": {},
     "output_type": "execute_result"
    }
   ],
   "source": [
    "pipe.predict(X[:5])"
   ]
  },
  {
   "cell_type": "code",
   "execution_count": 32,
   "metadata": {},
   "outputs": [
    {
     "data": {
      "text/plain": [
       "array([[0.56465125, 0.43534878],\n",
       "       [0.2613952 , 0.7386048 ],\n",
       "       [0.26589844, 0.7341016 ],\n",
       "       [0.5664597 , 0.43354028],\n",
       "       [0.32822582, 0.67177415]], dtype=float32)"
      ]
     },
     "execution_count": 32,
     "metadata": {},
     "output_type": "execute_result"
    }
   ],
   "source": [
    "pipe.predict_proba(X[:5])"
   ]
  },
  {
   "cell_type": "markdown",
   "metadata": {},
   "source": [
    "### pickle"
   ]
  },
  {
   "cell_type": "code",
   "execution_count": 35,
   "metadata": {},
   "outputs": [],
   "source": [
    "import pickle"
   ]
  },
  {
   "cell_type": "markdown",
   "metadata": {},
   "source": [
    "Saves the whole pipeline, including preprocessing and the neural net."
   ]
  },
  {
   "cell_type": "code",
   "execution_count": 36,
   "metadata": {},
   "outputs": [
    {
     "name": "stderr",
     "output_type": "stream",
     "text": [
      "/Users/bbossan/anaconda3/envs/skorch/lib/python3.7/site-packages/torch/serialization.py:256: UserWarning: Couldn't retrieve source code for container of type MyModule. It won't be checked for correctness upon loading.\n",
      "  \"type \" + obj.__name__ + \". It won't be checked \"\n"
     ]
    }
   ],
   "source": [
    "with open('my_pipeline.pickle', 'wb') as f:\n",
    "    pickle.dump(pipe, f)"
   ]
  },
  {
   "cell_type": "markdown",
   "metadata": {},
   "source": [
    "### GridSearchCV"
   ]
  },
  {
   "cell_type": "code",
   "execution_count": 40,
   "metadata": {},
   "outputs": [],
   "source": [
    "from sklearn.model_selection import GridSearchCV"
   ]
  },
  {
   "cell_type": "code",
   "execution_count": 41,
   "metadata": {},
   "outputs": [],
   "source": [
    "params = {\n",
    "    'lr': [0.05, 0.1],\n",
    "    'optimizer__momentum': [0.0, 0.9],\n",
    "    'module__num_units': [10, 20, 50],\n",
    "    'module__dropout': [0, 0.5],\n",
    "}"
   ]
  },
  {
   "cell_type": "code",
   "execution_count": 42,
   "metadata": {
    "scrolled": true
   },
   "outputs": [
    {
     "name": "stdout",
     "output_type": "stream",
     "text": [
      "Fitting 3 folds for each of 24 candidates, totalling 72 fits\n",
      "[CV] lr=0.05, module__dropout=0, module__num_units=10, optimizer__momentum=0.0 \n"
     ]
    },
    {
     "name": "stderr",
     "output_type": "stream",
     "text": [
      "/Users/bbossan/anaconda3/envs/skorch/lib/python3.7/site-packages/sklearn/model_selection/_split.py:1978: FutureWarning: The default value of cv will change from 3 to 5 in version 0.22. Specify it explicitly to silence this warning.\n",
      "  warnings.warn(CV_WARNING, FutureWarning)\n",
      "[Parallel(n_jobs=1)]: Using backend SequentialBackend with 1 concurrent workers.\n"
     ]
    },
    {
     "name": "stdout",
     "output_type": "stream",
     "text": [
      "[CV]  lr=0.05, module__dropout=0, module__num_units=10, optimizer__momentum=0.0, total=   7.1s\n",
      "[CV] lr=0.05, module__dropout=0, module__num_units=10, optimizer__momentum=0.0 \n"
     ]
    },
    {
     "name": "stderr",
     "output_type": "stream",
     "text": [
      "[Parallel(n_jobs=1)]: Done   1 out of   1 | elapsed:    7.1s remaining:    0.0s\n"
     ]
    },
    {
     "name": "stdout",
     "output_type": "stream",
     "text": [
      "[CV]  lr=0.05, module__dropout=0, module__num_units=10, optimizer__momentum=0.0, total=   3.9s\n",
      "[CV] lr=0.05, module__dropout=0, module__num_units=10, optimizer__momentum=0.0 \n",
      "[CV]  lr=0.05, module__dropout=0, module__num_units=10, optimizer__momentum=0.0, total=   4.6s\n",
      "[CV] lr=0.05, module__dropout=0, module__num_units=10, optimizer__momentum=0.9 \n",
      "[CV]  lr=0.05, module__dropout=0, module__num_units=10, optimizer__momentum=0.9, total=   4.2s\n",
      "[CV] lr=0.05, module__dropout=0, module__num_units=10, optimizer__momentum=0.9 \n",
      "[CV]  lr=0.05, module__dropout=0, module__num_units=10, optimizer__momentum=0.9, total=   5.7s\n",
      "[CV] lr=0.05, module__dropout=0, module__num_units=10, optimizer__momentum=0.9 \n",
      "[CV]  lr=0.05, module__dropout=0, module__num_units=10, optimizer__momentum=0.9, total=   3.7s\n",
      "[CV] lr=0.05, module__dropout=0, module__num_units=20, optimizer__momentum=0.0 \n",
      "[CV]  lr=0.05, module__dropout=0, module__num_units=20, optimizer__momentum=0.0, total=   5.2s\n",
      "[CV] lr=0.05, module__dropout=0, module__num_units=20, optimizer__momentum=0.0 \n",
      "[CV]  lr=0.05, module__dropout=0, module__num_units=20, optimizer__momentum=0.0, total=   4.6s\n",
      "[CV] lr=0.05, module__dropout=0, module__num_units=20, optimizer__momentum=0.0 \n",
      "[CV]  lr=0.05, module__dropout=0, module__num_units=20, optimizer__momentum=0.0, total=   5.2s\n",
      "[CV] lr=0.05, module__dropout=0, module__num_units=20, optimizer__momentum=0.9 \n",
      "[CV]  lr=0.05, module__dropout=0, module__num_units=20, optimizer__momentum=0.9, total=   4.1s\n",
      "[CV] lr=0.05, module__dropout=0, module__num_units=20, optimizer__momentum=0.9 \n",
      "[CV]  lr=0.05, module__dropout=0, module__num_units=20, optimizer__momentum=0.9, total=   6.0s\n",
      "[CV] lr=0.05, module__dropout=0, module__num_units=20, optimizer__momentum=0.9 \n",
      "[CV]  lr=0.05, module__dropout=0, module__num_units=20, optimizer__momentum=0.9, total=   5.8s\n",
      "[CV] lr=0.05, module__dropout=0, module__num_units=50, optimizer__momentum=0.0 \n",
      "[CV]  lr=0.05, module__dropout=0, module__num_units=50, optimizer__momentum=0.0, total=   5.9s\n",
      "[CV] lr=0.05, module__dropout=0, module__num_units=50, optimizer__momentum=0.0 \n",
      "[CV]  lr=0.05, module__dropout=0, module__num_units=50, optimizer__momentum=0.0, total=   7.4s\n",
      "[CV] lr=0.05, module__dropout=0, module__num_units=50, optimizer__momentum=0.0 \n",
      "[CV]  lr=0.05, module__dropout=0, module__num_units=50, optimizer__momentum=0.0, total=   6.4s\n",
      "[CV] lr=0.05, module__dropout=0, module__num_units=50, optimizer__momentum=0.9 \n",
      "[CV]  lr=0.05, module__dropout=0, module__num_units=50, optimizer__momentum=0.9, total=   5.8s\n",
      "[CV] lr=0.05, module__dropout=0, module__num_units=50, optimizer__momentum=0.9 \n",
      "[CV]  lr=0.05, module__dropout=0, module__num_units=50, optimizer__momentum=0.9, total=   8.0s\n",
      "[CV] lr=0.05, module__dropout=0, module__num_units=50, optimizer__momentum=0.9 \n",
      "[CV]  lr=0.05, module__dropout=0, module__num_units=50, optimizer__momentum=0.9, total=   5.0s\n",
      "[CV] lr=0.05, module__dropout=0.5, module__num_units=10, optimizer__momentum=0.0 \n",
      "[CV]  lr=0.05, module__dropout=0.5, module__num_units=10, optimizer__momentum=0.0, total=   4.4s\n",
      "[CV] lr=0.05, module__dropout=0.5, module__num_units=10, optimizer__momentum=0.0 \n",
      "[CV]  lr=0.05, module__dropout=0.5, module__num_units=10, optimizer__momentum=0.0, total=   6.2s\n",
      "[CV] lr=0.05, module__dropout=0.5, module__num_units=10, optimizer__momentum=0.0 \n",
      "[CV]  lr=0.05, module__dropout=0.5, module__num_units=10, optimizer__momentum=0.0, total=   5.8s\n",
      "[CV] lr=0.05, module__dropout=0.5, module__num_units=10, optimizer__momentum=0.9 \n",
      "[CV]  lr=0.05, module__dropout=0.5, module__num_units=10, optimizer__momentum=0.9, total=   6.4s\n",
      "[CV] lr=0.05, module__dropout=0.5, module__num_units=10, optimizer__momentum=0.9 \n",
      "[CV]  lr=0.05, module__dropout=0.5, module__num_units=10, optimizer__momentum=0.9, total=   7.1s\n",
      "[CV] lr=0.05, module__dropout=0.5, module__num_units=10, optimizer__momentum=0.9 \n",
      "[CV]  lr=0.05, module__dropout=0.5, module__num_units=10, optimizer__momentum=0.9, total=   5.4s\n",
      "[CV] lr=0.05, module__dropout=0.5, module__num_units=20, optimizer__momentum=0.0 \n",
      "[CV]  lr=0.05, module__dropout=0.5, module__num_units=20, optimizer__momentum=0.0, total=   4.5s\n",
      "[CV] lr=0.05, module__dropout=0.5, module__num_units=20, optimizer__momentum=0.0 \n",
      "[CV]  lr=0.05, module__dropout=0.5, module__num_units=20, optimizer__momentum=0.0, total=   3.2s\n",
      "[CV] lr=0.05, module__dropout=0.5, module__num_units=20, optimizer__momentum=0.0 \n",
      "[CV]  lr=0.05, module__dropout=0.5, module__num_units=20, optimizer__momentum=0.0, total=   3.5s\n",
      "[CV] lr=0.05, module__dropout=0.5, module__num_units=20, optimizer__momentum=0.9 \n",
      "[CV]  lr=0.05, module__dropout=0.5, module__num_units=20, optimizer__momentum=0.9, total=   5.1s\n",
      "[CV] lr=0.05, module__dropout=0.5, module__num_units=20, optimizer__momentum=0.9 \n",
      "[CV]  lr=0.05, module__dropout=0.5, module__num_units=20, optimizer__momentum=0.9, total=   3.9s\n",
      "[CV] lr=0.05, module__dropout=0.5, module__num_units=20, optimizer__momentum=0.9 \n",
      "[CV]  lr=0.05, module__dropout=0.5, module__num_units=20, optimizer__momentum=0.9, total=   4.0s\n",
      "[CV] lr=0.05, module__dropout=0.5, module__num_units=50, optimizer__momentum=0.0 \n",
      "[CV]  lr=0.05, module__dropout=0.5, module__num_units=50, optimizer__momentum=0.0, total=   5.5s\n",
      "[CV] lr=0.05, module__dropout=0.5, module__num_units=50, optimizer__momentum=0.0 \n",
      "[CV]  lr=0.05, module__dropout=0.5, module__num_units=50, optimizer__momentum=0.0, total=   5.4s\n",
      "[CV] lr=0.05, module__dropout=0.5, module__num_units=50, optimizer__momentum=0.0 \n",
      "[CV]  lr=0.05, module__dropout=0.5, module__num_units=50, optimizer__momentum=0.0, total=   4.6s\n",
      "[CV] lr=0.05, module__dropout=0.5, module__num_units=50, optimizer__momentum=0.9 \n",
      "[CV]  lr=0.05, module__dropout=0.5, module__num_units=50, optimizer__momentum=0.9, total=   4.8s\n",
      "[CV] lr=0.05, module__dropout=0.5, module__num_units=50, optimizer__momentum=0.9 \n",
      "[CV]  lr=0.05, module__dropout=0.5, module__num_units=50, optimizer__momentum=0.9, total=   4.6s\n",
      "[CV] lr=0.05, module__dropout=0.5, module__num_units=50, optimizer__momentum=0.9 \n",
      "[CV]  lr=0.05, module__dropout=0.5, module__num_units=50, optimizer__momentum=0.9, total=   4.4s\n",
      "[CV] lr=0.1, module__dropout=0, module__num_units=10, optimizer__momentum=0.0 \n",
      "[CV]  lr=0.1, module__dropout=0, module__num_units=10, optimizer__momentum=0.0, total=   5.1s\n",
      "[CV] lr=0.1, module__dropout=0, module__num_units=10, optimizer__momentum=0.0 \n",
      "[CV]  lr=0.1, module__dropout=0, module__num_units=10, optimizer__momentum=0.0, total=   4.4s\n",
      "[CV] lr=0.1, module__dropout=0, module__num_units=10, optimizer__momentum=0.0 \n",
      "[CV]  lr=0.1, module__dropout=0, module__num_units=10, optimizer__momentum=0.0, total=   4.8s\n",
      "[CV] lr=0.1, module__dropout=0, module__num_units=10, optimizer__momentum=0.9 \n",
      "[CV]  lr=0.1, module__dropout=0, module__num_units=10, optimizer__momentum=0.9, total=   4.8s\n",
      "[CV] lr=0.1, module__dropout=0, module__num_units=10, optimizer__momentum=0.9 \n",
      "[CV]  lr=0.1, module__dropout=0, module__num_units=10, optimizer__momentum=0.9, total=   4.0s\n",
      "[CV] lr=0.1, module__dropout=0, module__num_units=10, optimizer__momentum=0.9 \n",
      "[CV]  lr=0.1, module__dropout=0, module__num_units=10, optimizer__momentum=0.9, total=   3.6s\n",
      "[CV] lr=0.1, module__dropout=0, module__num_units=20, optimizer__momentum=0.0 \n",
      "[CV]  lr=0.1, module__dropout=0, module__num_units=20, optimizer__momentum=0.0, total=   5.1s\n",
      "[CV] lr=0.1, module__dropout=0, module__num_units=20, optimizer__momentum=0.0 \n",
      "[CV]  lr=0.1, module__dropout=0, module__num_units=20, optimizer__momentum=0.0, total=   4.3s\n",
      "[CV] lr=0.1, module__dropout=0, module__num_units=20, optimizer__momentum=0.0 \n",
      "[CV]  lr=0.1, module__dropout=0, module__num_units=20, optimizer__momentum=0.0, total=   5.8s\n",
      "[CV] lr=0.1, module__dropout=0, module__num_units=20, optimizer__momentum=0.9 \n",
      "[CV]  lr=0.1, module__dropout=0, module__num_units=20, optimizer__momentum=0.9, total=   4.2s\n",
      "[CV] lr=0.1, module__dropout=0, module__num_units=20, optimizer__momentum=0.9 \n",
      "[CV]  lr=0.1, module__dropout=0, module__num_units=20, optimizer__momentum=0.9, total=   4.6s\n",
      "[CV] lr=0.1, module__dropout=0, module__num_units=20, optimizer__momentum=0.9 \n",
      "[CV]  lr=0.1, module__dropout=0, module__num_units=20, optimizer__momentum=0.9, total=   3.9s\n",
      "[CV] lr=0.1, module__dropout=0, module__num_units=50, optimizer__momentum=0.0 \n"
     ]
    },
    {
     "name": "stdout",
     "output_type": "stream",
     "text": [
      "[CV]  lr=0.1, module__dropout=0, module__num_units=50, optimizer__momentum=0.0, total=   6.5s\n",
      "[CV] lr=0.1, module__dropout=0, module__num_units=50, optimizer__momentum=0.0 \n",
      "[CV]  lr=0.1, module__dropout=0, module__num_units=50, optimizer__momentum=0.0, total=   6.2s\n",
      "[CV] lr=0.1, module__dropout=0, module__num_units=50, optimizer__momentum=0.0 \n",
      "[CV]  lr=0.1, module__dropout=0, module__num_units=50, optimizer__momentum=0.0, total=   7.0s\n",
      "[CV] lr=0.1, module__dropout=0, module__num_units=50, optimizer__momentum=0.9 \n",
      "[CV]  lr=0.1, module__dropout=0, module__num_units=50, optimizer__momentum=0.9, total=   4.3s\n",
      "[CV] lr=0.1, module__dropout=0, module__num_units=50, optimizer__momentum=0.9 \n",
      "[CV]  lr=0.1, module__dropout=0, module__num_units=50, optimizer__momentum=0.9, total=   7.4s\n",
      "[CV] lr=0.1, module__dropout=0, module__num_units=50, optimizer__momentum=0.9 \n",
      "[CV]  lr=0.1, module__dropout=0, module__num_units=50, optimizer__momentum=0.9, total=   7.4s\n",
      "[CV] lr=0.1, module__dropout=0.5, module__num_units=10, optimizer__momentum=0.0 \n",
      "[CV]  lr=0.1, module__dropout=0.5, module__num_units=10, optimizer__momentum=0.0, total=   4.9s\n",
      "[CV] lr=0.1, module__dropout=0.5, module__num_units=10, optimizer__momentum=0.0 \n",
      "[CV]  lr=0.1, module__dropout=0.5, module__num_units=10, optimizer__momentum=0.0, total=   7.8s\n",
      "[CV] lr=0.1, module__dropout=0.5, module__num_units=10, optimizer__momentum=0.0 \n",
      "[CV]  lr=0.1, module__dropout=0.5, module__num_units=10, optimizer__momentum=0.0, total=   7.6s\n",
      "[CV] lr=0.1, module__dropout=0.5, module__num_units=10, optimizer__momentum=0.9 \n",
      "[CV]  lr=0.1, module__dropout=0.5, module__num_units=10, optimizer__momentum=0.9, total=   5.2s\n",
      "[CV] lr=0.1, module__dropout=0.5, module__num_units=10, optimizer__momentum=0.9 \n",
      "[CV]  lr=0.1, module__dropout=0.5, module__num_units=10, optimizer__momentum=0.9, total=   4.4s\n",
      "[CV] lr=0.1, module__dropout=0.5, module__num_units=10, optimizer__momentum=0.9 \n",
      "[CV]  lr=0.1, module__dropout=0.5, module__num_units=10, optimizer__momentum=0.9, total=   5.0s\n",
      "[CV] lr=0.1, module__dropout=0.5, module__num_units=20, optimizer__momentum=0.0 \n",
      "[CV]  lr=0.1, module__dropout=0.5, module__num_units=20, optimizer__momentum=0.0, total=   3.9s\n",
      "[CV] lr=0.1, module__dropout=0.5, module__num_units=20, optimizer__momentum=0.0 \n",
      "[CV]  lr=0.1, module__dropout=0.5, module__num_units=20, optimizer__momentum=0.0, total=   4.9s\n",
      "[CV] lr=0.1, module__dropout=0.5, module__num_units=20, optimizer__momentum=0.0 \n",
      "[CV]  lr=0.1, module__dropout=0.5, module__num_units=20, optimizer__momentum=0.0, total=   4.0s\n",
      "[CV] lr=0.1, module__dropout=0.5, module__num_units=20, optimizer__momentum=0.9 \n",
      "[CV]  lr=0.1, module__dropout=0.5, module__num_units=20, optimizer__momentum=0.9, total=   5.3s\n",
      "[CV] lr=0.1, module__dropout=0.5, module__num_units=20, optimizer__momentum=0.9 \n",
      "[CV]  lr=0.1, module__dropout=0.5, module__num_units=20, optimizer__momentum=0.9, total=   4.7s\n",
      "[CV] lr=0.1, module__dropout=0.5, module__num_units=20, optimizer__momentum=0.9 \n",
      "[CV]  lr=0.1, module__dropout=0.5, module__num_units=20, optimizer__momentum=0.9, total=   7.1s\n",
      "[CV] lr=0.1, module__dropout=0.5, module__num_units=50, optimizer__momentum=0.0 \n",
      "[CV]  lr=0.1, module__dropout=0.5, module__num_units=50, optimizer__momentum=0.0, total=   4.7s\n",
      "[CV] lr=0.1, module__dropout=0.5, module__num_units=50, optimizer__momentum=0.0 \n",
      "[CV]  lr=0.1, module__dropout=0.5, module__num_units=50, optimizer__momentum=0.0, total=   5.9s\n",
      "[CV] lr=0.1, module__dropout=0.5, module__num_units=50, optimizer__momentum=0.0 \n",
      "[CV]  lr=0.1, module__dropout=0.5, module__num_units=50, optimizer__momentum=0.0, total=   5.3s\n",
      "[CV] lr=0.1, module__dropout=0.5, module__num_units=50, optimizer__momentum=0.9 \n",
      "[CV]  lr=0.1, module__dropout=0.5, module__num_units=50, optimizer__momentum=0.9, total=   5.6s\n",
      "[CV] lr=0.1, module__dropout=0.5, module__num_units=50, optimizer__momentum=0.9 \n",
      "[CV]  lr=0.1, module__dropout=0.5, module__num_units=50, optimizer__momentum=0.9, total=   5.1s\n",
      "[CV] lr=0.1, module__dropout=0.5, module__num_units=50, optimizer__momentum=0.9 \n",
      "[CV]  lr=0.1, module__dropout=0.5, module__num_units=50, optimizer__momentum=0.9, total=   5.2s\n"
     ]
    },
    {
     "name": "stderr",
     "output_type": "stream",
     "text": [
      "[Parallel(n_jobs=1)]: Done  72 out of  72 | elapsed:  6.3min finished\n"
     ]
    },
    {
     "name": "stdout",
     "output_type": "stream",
     "text": [
      "CPU times: user 29min 54s, sys: 25.6 s, total: 30min 20s\n",
      "Wall time: 6min 26s\n"
     ]
    }
   ],
   "source": [
    "%time search = GridSearchCV(net, params, verbose=2, cv=3).fit(X, y)"
   ]
  },
  {
   "cell_type": "code",
   "execution_count": 44,
   "metadata": {},
   "outputs": [
    {
     "data": {
      "text/plain": [
       "(0.96,\n",
       " {'lr': 0.1,\n",
       "  'module__dropout': 0,\n",
       "  'module__num_units': 50,\n",
       "  'optimizer__momentum': 0.9})"
      ]
     },
     "execution_count": 44,
     "metadata": {},
     "output_type": "execute_result"
    }
   ],
   "source": [
    "search.best_score_, search.best_params_"
   ]
  },
  {
   "cell_type": "markdown",
   "metadata": {},
   "source": [
    "### swap skorch net for any other sklearn estimator"
   ]
  },
  {
   "cell_type": "code",
   "execution_count": 45,
   "metadata": {},
   "outputs": [],
   "source": [
    "from sklearn.neighbors import KNeighborsClassifier\n",
    "from sklearn.linear_model import LogisticRegression"
   ]
  },
  {
   "cell_type": "code",
   "execution_count": 46,
   "metadata": {},
   "outputs": [],
   "source": [
    "pipe = Pipeline([\n",
    "    ('scale', StandardScaler()),\n",
    "    ('model', net),\n",
    "])\n",
    "params = {'model': [net, KNeighborsClassifier(), LogisticRegression()]}\n",
    "search = GridSearchCV(pipe, params, verbose=2, cv=3)"
   ]
  },
  {
   "cell_type": "code",
   "execution_count": null,
   "metadata": {},
   "outputs": [
    {
     "name": "stdout",
     "output_type": "stream",
     "text": [
      "Fitting 3 folds for each of 3 candidates, totalling 9 fits\n",
      "[CV] model=<class 'skorch.classifier.NeuralNetClassifier'>[initialized](\n",
      "  module_=MyModule(\n",
      "    (dense): Linear(in_features=20, out_features=50, bias=True)\n",
      "    (dropout): Dropout(p=0.5, inplace=False)\n",
      "    (output): Linear(in_features=50, out_features=2, bias=True)\n",
      "  ),\n",
      ") \n"
     ]
    },
    {
     "name": "stderr",
     "output_type": "stream",
     "text": [
      "[Parallel(n_jobs=1)]: Using backend SequentialBackend with 1 concurrent workers.\n"
     ]
    },
    {
     "name": "stdout",
     "output_type": "stream",
     "text": [
      "[CV]  model=<class 'skorch.classifier.NeuralNetClassifier'>[initialized](\n",
      "  module_=MyModule(\n",
      "    (dense): Linear(in_features=20, out_features=50, bias=True)\n",
      "    (dropout): Dropout(p=0.5, inplace=False)\n",
      "    (output): Linear(in_features=50, out_features=2, bias=True)\n",
      "  ),\n",
      "), total=   5.7s\n",
      "[CV] model=<class 'skorch.classifier.NeuralNetClassifier'>[initialized](\n",
      "  module_=MyModule(\n",
      "    (dense): Linear(in_features=20, out_features=50, bias=True)\n",
      "    (dropout): Dropout(p=0.5, inplace=False)\n",
      "    (output): Linear(in_features=50, out_features=2, bias=True)\n",
      "  ),\n",
      ") \n"
     ]
    },
    {
     "name": "stderr",
     "output_type": "stream",
     "text": [
      "[Parallel(n_jobs=1)]: Done   1 out of   1 | elapsed:    5.7s remaining:    0.0s\n"
     ]
    }
   ],
   "source": [
    "%time search.fit(X, y)"
   ]
  },
  {
   "cell_type": "code",
   "execution_count": null,
   "metadata": {},
   "outputs": [],
   "source": [
    "search.best_score_, search.best_params_"
   ]
  },
  {
   "cell_type": "markdown",
   "metadata": {},
   "source": [
    "## Saving and loading a model"
   ]
  },
  {
   "cell_type": "markdown",
   "metadata": {},
   "source": [
    "Save and load either the whole model by using pickle or just the learned model parameters by calling `save_params` and `load_params`."
   ]
  },
  {
   "cell_type": "markdown",
   "metadata": {},
   "source": [
    "### Saving the whole model"
   ]
  },
  {
   "cell_type": "code",
   "execution_count": 21,
   "metadata": {},
   "outputs": [],
   "source": [
    "import pickle"
   ]
  },
  {
   "cell_type": "code",
   "execution_count": 22,
   "metadata": {},
   "outputs": [],
   "source": [
    "file_name = '/tmp/mymodel.pkl'"
   ]
  },
  {
   "cell_type": "code",
   "execution_count": 23,
   "metadata": {},
   "outputs": [
    {
     "name": "stderr",
     "output_type": "stream",
     "text": [
      "/Users/thomasfan/anaconda3/lib/python3.7/site-packages/torch/serialization.py:241: UserWarning: Couldn't retrieve source code for container of type ClassifierModule. It won't be checked for correctness upon loading.\n",
      "  \"type \" + obj.__name__ + \". It won't be checked \"\n"
     ]
    }
   ],
   "source": [
    "with open(file_name, 'wb') as f:\n",
    "    pickle.dump(net, f)"
   ]
  },
  {
   "cell_type": "code",
   "execution_count": 24,
   "metadata": {},
   "outputs": [],
   "source": [
    "with open(file_name, 'rb') as f:\n",
    "    new_net = pickle.load(f)"
   ]
  },
  {
   "cell_type": "markdown",
   "metadata": {},
   "source": [
    "### Saving only the model parameters"
   ]
  },
  {
   "cell_type": "markdown",
   "metadata": {},
   "source": [
    "This only saves and loads the proper `module` parameters, meaning that hyperparameters such as `lr` and `max_epochs` are not saved. Therefore, to load the model, we have to re-initialize it beforehand."
   ]
  },
  {
   "cell_type": "code",
   "execution_count": 25,
   "metadata": {},
   "outputs": [],
   "source": [
    "net.save_params(f_params=file_name)  # a file handler also works"
   ]
  },
  {
   "cell_type": "code",
   "execution_count": 26,
   "metadata": {},
   "outputs": [],
   "source": [
    "# first initialize the model\n",
    "new_net = NeuralNetClassifier(\n",
    "    ClassifierModule,\n",
    "    max_epochs=20,\n",
    "    lr=0.1,\n",
    ").initialize()"
   ]
  },
  {
   "cell_type": "code",
   "execution_count": 27,
   "metadata": {},
   "outputs": [],
   "source": [
    "new_net.load_params(file_name)"
   ]
  },
  {
   "cell_type": "markdown",
   "metadata": {},
   "source": [
    "## Usage with an `sklearn Pipeline`"
   ]
  },
  {
   "cell_type": "markdown",
   "metadata": {},
   "source": [
    "It is possible to put the `NeuralNetClassifier` inside an `sklearn Pipeline`, as you would with any `sklearn` classifier."
   ]
  },
  {
   "cell_type": "code",
   "execution_count": 28,
   "metadata": {},
   "outputs": [],
   "source": [
    "from sklearn.pipeline import Pipeline\n",
    "from sklearn.preprocessing import StandardScaler"
   ]
  },
  {
   "cell_type": "code",
   "execution_count": 29,
   "metadata": {},
   "outputs": [],
   "source": [
    "pipe = Pipeline([\n",
    "    ('scale', StandardScaler()),\n",
    "    ('net', net),\n",
    "])"
   ]
  },
  {
   "cell_type": "code",
   "execution_count": 30,
   "metadata": {},
   "outputs": [
    {
     "name": "stdout",
     "output_type": "stream",
     "text": [
      "Re-initializing module!\n",
      "  epoch    train_loss    valid_acc    valid_loss     dur\n",
      "-------  ------------  -----------  ------------  ------\n",
      "      1        \u001b[36m0.7243\u001b[0m       \u001b[32m0.5000\u001b[0m        \u001b[35m0.7105\u001b[0m  0.0184\n",
      "      2        \u001b[36m0.7057\u001b[0m       0.5000        \u001b[35m0.6996\u001b[0m  0.0207\n",
      "      3        \u001b[36m0.6971\u001b[0m       0.5000        \u001b[35m0.6949\u001b[0m  0.0192\n",
      "      4        \u001b[36m0.6936\u001b[0m       \u001b[32m0.5050\u001b[0m        \u001b[35m0.6929\u001b[0m  0.0224\n",
      "      5        \u001b[36m0.6923\u001b[0m       \u001b[32m0.5400\u001b[0m        \u001b[35m0.6916\u001b[0m  0.0210\n",
      "      6        \u001b[36m0.6905\u001b[0m       0.5000        \u001b[35m0.6906\u001b[0m  0.0189\n",
      "      7        \u001b[36m0.6894\u001b[0m       0.5100        \u001b[35m0.6899\u001b[0m  0.0194\n",
      "      8        \u001b[36m0.6891\u001b[0m       0.5150        \u001b[35m0.6892\u001b[0m  0.0186\n",
      "      9        0.6899       0.5250        \u001b[35m0.6885\u001b[0m  0.0202\n",
      "     10        \u001b[36m0.6844\u001b[0m       0.5300        \u001b[35m0.6876\u001b[0m  0.0189\n",
      "     11        0.6853       \u001b[32m0.5650\u001b[0m        \u001b[35m0.6865\u001b[0m  0.0199\n",
      "     12        \u001b[36m0.6842\u001b[0m       \u001b[32m0.5700\u001b[0m        \u001b[35m0.6855\u001b[0m  0.0183\n",
      "     13        \u001b[36m0.6821\u001b[0m       \u001b[32m0.5850\u001b[0m        \u001b[35m0.6844\u001b[0m  0.0199\n",
      "     14        \u001b[36m0.6821\u001b[0m       \u001b[32m0.6050\u001b[0m        \u001b[35m0.6832\u001b[0m  0.0189\n",
      "     15        \u001b[36m0.6820\u001b[0m       \u001b[32m0.6100\u001b[0m        \u001b[35m0.6820\u001b[0m  0.0206\n",
      "     16        \u001b[36m0.6769\u001b[0m       0.6100        \u001b[35m0.6800\u001b[0m  0.0188\n",
      "     17        0.6784       \u001b[32m0.6200\u001b[0m        \u001b[35m0.6780\u001b[0m  0.0219\n",
      "     18        \u001b[36m0.6763\u001b[0m       \u001b[32m0.6450\u001b[0m        \u001b[35m0.6761\u001b[0m  0.0233\n",
      "     19        \u001b[36m0.6704\u001b[0m       \u001b[32m0.6550\u001b[0m        \u001b[35m0.6729\u001b[0m  0.0254\n",
      "     20        \u001b[36m0.6691\u001b[0m       \u001b[32m0.6750\u001b[0m        \u001b[35m0.6699\u001b[0m  0.0252\n"
     ]
    },
    {
     "data": {
      "text/plain": [
       "Pipeline(memory=None,\n",
       "     steps=[('scale', StandardScaler(copy=True, with_mean=True, with_std=True)), ('net', <class 'skorch.classifier.NeuralNetClassifier'>[initialized](\n",
       "  module_=ClassifierModule(\n",
       "    (dense0): Linear(in_features=20, out_features=10, bias=True)\n",
       "    (dropout): Dropout(p=0.5)\n",
       "    (dense1): Linear(in_features=10, out_features=10, bias=True)\n",
       "    (output): Linear(in_features=10, out_features=2, bias=True)\n",
       "  ),\n",
       "))])"
      ]
     },
     "execution_count": 30,
     "metadata": {},
     "output_type": "execute_result"
    }
   ],
   "source": [
    "pipe.fit(X, y)"
   ]
  },
  {
   "cell_type": "code",
   "execution_count": 31,
   "metadata": {},
   "outputs": [
    {
     "data": {
      "text/plain": [
       "array([[0.5064775 , 0.49352255],\n",
       "       [0.53243965, 0.46756038],\n",
       "       [0.57306874, 0.42693123],\n",
       "       [0.54179883, 0.45820117],\n",
       "       [0.5528906 , 0.44710937]], dtype=float32)"
      ]
     },
     "execution_count": 31,
     "metadata": {},
     "output_type": "execute_result"
    }
   ],
   "source": [
    "y_proba = pipe.predict_proba(X[:5])\n",
    "y_proba"
   ]
  },
  {
   "cell_type": "markdown",
   "metadata": {},
   "source": [
    "To save the whole pipeline, including the pytorch module, use `pickle`."
   ]
  },
  {
   "cell_type": "markdown",
   "metadata": {},
   "source": [
    "## Callbacks"
   ]
  },
  {
   "cell_type": "markdown",
   "metadata": {},
   "source": [
    "Adding a new callback to the model is straightforward. Below we show how to add a new callback that determines the area under the ROC (AUC) score."
   ]
  },
  {
   "cell_type": "code",
   "execution_count": 32,
   "metadata": {},
   "outputs": [],
   "source": [
    "from skorch.callbacks import EpochScoring"
   ]
  },
  {
   "cell_type": "markdown",
   "metadata": {},
   "source": [
    "There is a scoring callback in skorch, `EpochScoring`, which we use for this. We have to specify which score to calculate. We have 3 choices:\n",
    "\n",
    "* Passing a string: This should be a valid `sklearn` metric. For a list of all existing scores, look [here](http://scikit-learn.org/stable/modules/classes.html#sklearn-metrics-metrics).\n",
    "* Passing `None`: If you implement your own `.score` method on your neural net, passing `scoring=None` will tell `skorch` to use that.\n",
    "* Passing a function or callable: If we want to define our own scoring function, we pass a function with the signature `func(model, X, y) -> score`, which is then used.\n",
    "\n",
    "Note that this works exactly the same as scoring in `sklearn` does."
   ]
  },
  {
   "cell_type": "markdown",
   "metadata": {},
   "source": [
    "For our case here, since `sklearn` already implements AUC, we just pass the correct string `'roc_auc'`. We should also tell the callback that higher scores are better (to get the correct colors printed below -- by default, lower scores are assumed to be better). Furthermore, we may specify a `name` argument for `EpochScoring`, and whether to use training data (by setting `on_train=True`) or validation data (which is the default)."
   ]
  },
  {
   "cell_type": "code",
   "execution_count": 33,
   "metadata": {},
   "outputs": [],
   "source": [
    "auc = EpochScoring(scoring='roc_auc', lower_is_better=False)"
   ]
  },
  {
   "cell_type": "markdown",
   "metadata": {},
   "source": [
    "Finally, we pass the scoring callback to the `callbacks` parameter as a list and then call `fit`. Notice that we get the printed scores and color highlighting for free."
   ]
  },
  {
   "cell_type": "code",
   "execution_count": 34,
   "metadata": {},
   "outputs": [],
   "source": [
    "net = NeuralNetClassifier(\n",
    "    ClassifierModule,\n",
    "    max_epochs=20,\n",
    "    lr=0.1,\n",
    "    callbacks=[auc],\n",
    ")"
   ]
  },
  {
   "cell_type": "code",
   "execution_count": 35,
   "metadata": {},
   "outputs": [
    {
     "name": "stdout",
     "output_type": "stream",
     "text": [
      "  epoch    roc_auc    train_loss    valid_acc    valid_loss     dur\n",
      "-------  ---------  ------------  -----------  ------------  ------\n",
      "      1     \u001b[36m0.6112\u001b[0m        \u001b[32m0.7076\u001b[0m       \u001b[35m0.5550\u001b[0m        \u001b[31m0.6802\u001b[0m  0.0188\n",
      "      2     \u001b[36m0.6766\u001b[0m        \u001b[32m0.6750\u001b[0m       \u001b[35m0.6150\u001b[0m        \u001b[31m0.6626\u001b[0m  0.0204\n",
      "      3     \u001b[36m0.7031\u001b[0m        \u001b[32m0.6560\u001b[0m       \u001b[35m0.6500\u001b[0m        \u001b[31m0.6498\u001b[0m  0.0244\n",
      "      4     \u001b[36m0.7201\u001b[0m        \u001b[32m0.6364\u001b[0m       \u001b[35m0.6650\u001b[0m        \u001b[31m0.6381\u001b[0m  0.0193\n",
      "      5     \u001b[36m0.7316\u001b[0m        \u001b[32m0.6176\u001b[0m       \u001b[35m0.6900\u001b[0m        \u001b[31m0.6285\u001b[0m  0.0203\n",
      "      6     \u001b[36m0.7447\u001b[0m        \u001b[32m0.6094\u001b[0m       \u001b[35m0.7200\u001b[0m        \u001b[31m0.6183\u001b[0m  0.0222\n",
      "      7     \u001b[36m0.7522\u001b[0m        0.6170       0.7200        \u001b[31m0.6090\u001b[0m  0.0188\n",
      "      8     \u001b[36m0.7567\u001b[0m        \u001b[32m0.5786\u001b[0m       0.7150        \u001b[31m0.6032\u001b[0m  0.0197\n",
      "      9     \u001b[36m0.7630\u001b[0m        0.5850       0.7100        \u001b[31m0.5954\u001b[0m  0.0214\n",
      "     10     \u001b[36m0.7706\u001b[0m        \u001b[32m0.5770\u001b[0m       0.7200        \u001b[31m0.5889\u001b[0m  0.0207\n",
      "     11     \u001b[36m0.7735\u001b[0m        \u001b[32m0.5740\u001b[0m       0.7050        \u001b[31m0.5842\u001b[0m  0.0188\n",
      "     12     0.7729        0.5771       0.7100        0.5859  0.0186\n",
      "     13     \u001b[36m0.7792\u001b[0m        \u001b[32m0.5557\u001b[0m       0.7000        \u001b[31m0.5745\u001b[0m  0.0178\n",
      "     14     \u001b[36m0.7825\u001b[0m        0.5810       0.7050        \u001b[31m0.5691\u001b[0m  0.0204\n",
      "     15     0.7824        0.5634       0.7200        \u001b[31m0.5691\u001b[0m  0.0194\n",
      "     16     0.7817        0.5778       0.7150        0.5704  0.0205\n",
      "     17     \u001b[36m0.7871\u001b[0m        0.5624       0.7150        \u001b[31m0.5633\u001b[0m  0.0188\n",
      "     18     0.7855        0.5613       0.7200        0.5660  0.0202\n",
      "     19     0.7792        0.5637       \u001b[35m0.7250\u001b[0m        0.5722  0.0194\n",
      "     20     0.7823        \u001b[32m0.5516\u001b[0m       0.7150        0.5681  0.0184\n"
     ]
    },
    {
     "data": {
      "text/plain": [
       "<class 'skorch.classifier.NeuralNetClassifier'>[initialized](\n",
       "  module_=ClassifierModule(\n",
       "    (dense0): Linear(in_features=20, out_features=10, bias=True)\n",
       "    (dropout): Dropout(p=0.5)\n",
       "    (dense1): Linear(in_features=10, out_features=10, bias=True)\n",
       "    (output): Linear(in_features=10, out_features=2, bias=True)\n",
       "  ),\n",
       ")"
      ]
     },
     "execution_count": 35,
     "metadata": {},
     "output_type": "execute_result"
    }
   ],
   "source": [
    "net.fit(X, y)"
   ]
  },
  {
   "cell_type": "markdown",
   "metadata": {},
   "source": [
    "For information on how to write custom callbacks, have a look at the [Advanced_Usage](https://nbviewer.jupyter.org/github/skorch-dev/skorch/blob/master/notebooks/Advanced_Usage.ipynb) notebook."
   ]
  },
  {
   "cell_type": "markdown",
   "metadata": {},
   "source": [
    "## Usage with sklearn `GridSearchCV`"
   ]
  },
  {
   "cell_type": "markdown",
   "metadata": {},
   "source": [
    "### Special prefixes"
   ]
  },
  {
   "cell_type": "markdown",
   "metadata": {},
   "source": [
    "The `NeuralNet` class allows to directly access parameters of the `pytorch module` by using the `module__` prefix. So e.g. if you defined the `module` to have a `num_units` parameter, you can set it via the `module__num_units` argument. This is exactly the same logic that allows to access estimator parameters in `sklearn Pipeline`s and `FeatureUnion`s."
   ]
  },
  {
   "cell_type": "markdown",
   "metadata": {},
   "source": [
    "This feature is useful in several ways. For one, it allows to set those parameters in the model definition. Furthermore, it allows you to set parameters in an `sklearn GridSearchCV` as shown below."
   ]
  },
  {
   "cell_type": "markdown",
   "metadata": {},
   "source": [
    "In addition to the parameters prefixed by `module__`, you may access a couple of other attributes, such as those of the optimizer by using the `optimizer__` prefix (again, see below). All those special prefixes are stored in the `prefixes_` attribute:"
   ]
  },
  {
   "cell_type": "code",
   "execution_count": 36,
   "metadata": {},
   "outputs": [
    {
     "name": "stdout",
     "output_type": "stream",
     "text": [
      "module, iterator_train, iterator_valid, optimizer, criterion, callbacks, dataset\n"
     ]
    }
   ],
   "source": [
    "print(', '.join(net.prefixes_))"
   ]
  },
  {
   "cell_type": "markdown",
   "metadata": {},
   "source": [
    "### Performing a grid search"
   ]
  },
  {
   "cell_type": "markdown",
   "metadata": {},
   "source": [
    "Below we show how to perform a grid search over the learning rate (`lr`), the module's number of hidden units (`module__num_units`), the module's dropout rate (`module__dropout`), and whether the SGD optimizer should use Nesterov momentum or not (`optimizer__nesterov`)."
   ]
  },
  {
   "cell_type": "code",
   "execution_count": 37,
   "metadata": {},
   "outputs": [],
   "source": [
    "from sklearn.model_selection import GridSearchCV"
   ]
  },
  {
   "cell_type": "code",
   "execution_count": 38,
   "metadata": {},
   "outputs": [],
   "source": [
    "net = NeuralNetClassifier(\n",
    "    ClassifierModule,\n",
    "    max_epochs=20,\n",
    "    lr=0.1,\n",
    "    verbose=0,\n",
    "    optimizer__momentum=0.9,\n",
    ")"
   ]
  },
  {
   "cell_type": "code",
   "execution_count": 39,
   "metadata": {},
   "outputs": [],
   "source": [
    "params = {\n",
    "    'lr': [0.05, 0.1],\n",
    "    'module__num_units': [10, 20],\n",
    "    'module__dropout': [0, 0.5],\n",
    "    'optimizer__nesterov': [False, True],\n",
    "}"
   ]
  },
  {
   "cell_type": "code",
   "execution_count": 40,
   "metadata": {},
   "outputs": [],
   "source": [
    "gs = GridSearchCV(net, params, refit=False, cv=3, scoring='accuracy', verbose=2)"
   ]
  },
  {
   "cell_type": "code",
   "execution_count": 41,
   "metadata": {},
   "outputs": [
    {
     "name": "stdout",
     "output_type": "stream",
     "text": [
      "Fitting 3 folds for each of 16 candidates, totalling 48 fits\n",
      "[CV] lr=0.05, module__dropout=0, module__num_units=10, optimizer__nesterov=False \n"
     ]
    },
    {
     "name": "stderr",
     "output_type": "stream",
     "text": [
      "[Parallel(n_jobs=1)]: Using backend SequentialBackend with 1 concurrent workers.\n"
     ]
    },
    {
     "name": "stdout",
     "output_type": "stream",
     "text": [
      "[CV]  lr=0.05, module__dropout=0, module__num_units=10, optimizer__nesterov=False, total=   0.3s\n",
      "[CV] lr=0.05, module__dropout=0, module__num_units=10, optimizer__nesterov=False \n"
     ]
    },
    {
     "name": "stderr",
     "output_type": "stream",
     "text": [
      "[Parallel(n_jobs=1)]: Done   1 out of   1 | elapsed:    0.3s remaining:    0.0s\n"
     ]
    },
    {
     "name": "stdout",
     "output_type": "stream",
     "text": [
      "[CV]  lr=0.05, module__dropout=0, module__num_units=10, optimizer__nesterov=False, total=   0.3s\n",
      "[CV] lr=0.05, module__dropout=0, module__num_units=10, optimizer__nesterov=False \n",
      "[CV]  lr=0.05, module__dropout=0, module__num_units=10, optimizer__nesterov=False, total=   0.3s\n",
      "[CV] lr=0.05, module__dropout=0, module__num_units=10, optimizer__nesterov=True \n",
      "[CV]  lr=0.05, module__dropout=0, module__num_units=10, optimizer__nesterov=True, total=   0.3s\n",
      "[CV] lr=0.05, module__dropout=0, module__num_units=10, optimizer__nesterov=True \n",
      "[CV]  lr=0.05, module__dropout=0, module__num_units=10, optimizer__nesterov=True, total=   0.3s\n",
      "[CV] lr=0.05, module__dropout=0, module__num_units=10, optimizer__nesterov=True \n",
      "[CV]  lr=0.05, module__dropout=0, module__num_units=10, optimizer__nesterov=True, total=   0.3s\n",
      "[CV] lr=0.05, module__dropout=0, module__num_units=20, optimizer__nesterov=False \n",
      "[CV]  lr=0.05, module__dropout=0, module__num_units=20, optimizer__nesterov=False, total=   0.3s\n",
      "[CV] lr=0.05, module__dropout=0, module__num_units=20, optimizer__nesterov=False \n",
      "[CV]  lr=0.05, module__dropout=0, module__num_units=20, optimizer__nesterov=False, total=   0.3s\n",
      "[CV] lr=0.05, module__dropout=0, module__num_units=20, optimizer__nesterov=False \n",
      "[CV]  lr=0.05, module__dropout=0, module__num_units=20, optimizer__nesterov=False, total=   0.3s\n",
      "[CV] lr=0.05, module__dropout=0, module__num_units=20, optimizer__nesterov=True \n",
      "[CV]  lr=0.05, module__dropout=0, module__num_units=20, optimizer__nesterov=True, total=   0.3s\n",
      "[CV] lr=0.05, module__dropout=0, module__num_units=20, optimizer__nesterov=True \n",
      "[CV]  lr=0.05, module__dropout=0, module__num_units=20, optimizer__nesterov=True, total=   0.3s\n",
      "[CV] lr=0.05, module__dropout=0, module__num_units=20, optimizer__nesterov=True \n",
      "[CV]  lr=0.05, module__dropout=0, module__num_units=20, optimizer__nesterov=True, total=   0.3s\n",
      "[CV] lr=0.05, module__dropout=0.5, module__num_units=10, optimizer__nesterov=False \n",
      "[CV]  lr=0.05, module__dropout=0.5, module__num_units=10, optimizer__nesterov=False, total=   0.3s\n",
      "[CV] lr=0.05, module__dropout=0.5, module__num_units=10, optimizer__nesterov=False \n",
      "[CV]  lr=0.05, module__dropout=0.5, module__num_units=10, optimizer__nesterov=False, total=   0.3s\n",
      "[CV] lr=0.05, module__dropout=0.5, module__num_units=10, optimizer__nesterov=False \n",
      "[CV]  lr=0.05, module__dropout=0.5, module__num_units=10, optimizer__nesterov=False, total=   0.3s\n",
      "[CV] lr=0.05, module__dropout=0.5, module__num_units=10, optimizer__nesterov=True \n",
      "[CV]  lr=0.05, module__dropout=0.5, module__num_units=10, optimizer__nesterov=True, total=   0.3s\n",
      "[CV] lr=0.05, module__dropout=0.5, module__num_units=10, optimizer__nesterov=True \n",
      "[CV]  lr=0.05, module__dropout=0.5, module__num_units=10, optimizer__nesterov=True, total=   0.3s\n",
      "[CV] lr=0.05, module__dropout=0.5, module__num_units=10, optimizer__nesterov=True \n",
      "[CV]  lr=0.05, module__dropout=0.5, module__num_units=10, optimizer__nesterov=True, total=   0.3s\n",
      "[CV] lr=0.05, module__dropout=0.5, module__num_units=20, optimizer__nesterov=False \n",
      "[CV]  lr=0.05, module__dropout=0.5, module__num_units=20, optimizer__nesterov=False, total=   0.3s\n",
      "[CV] lr=0.05, module__dropout=0.5, module__num_units=20, optimizer__nesterov=False \n",
      "[CV]  lr=0.05, module__dropout=0.5, module__num_units=20, optimizer__nesterov=False, total=   0.3s\n",
      "[CV] lr=0.05, module__dropout=0.5, module__num_units=20, optimizer__nesterov=False \n",
      "[CV]  lr=0.05, module__dropout=0.5, module__num_units=20, optimizer__nesterov=False, total=   0.3s\n",
      "[CV] lr=0.05, module__dropout=0.5, module__num_units=20, optimizer__nesterov=True \n",
      "[CV]  lr=0.05, module__dropout=0.5, module__num_units=20, optimizer__nesterov=True, total=   0.3s\n",
      "[CV] lr=0.05, module__dropout=0.5, module__num_units=20, optimizer__nesterov=True \n",
      "[CV]  lr=0.05, module__dropout=0.5, module__num_units=20, optimizer__nesterov=True, total=   0.3s\n",
      "[CV] lr=0.05, module__dropout=0.5, module__num_units=20, optimizer__nesterov=True \n",
      "[CV]  lr=0.05, module__dropout=0.5, module__num_units=20, optimizer__nesterov=True, total=   0.3s\n",
      "[CV] lr=0.1, module__dropout=0, module__num_units=10, optimizer__nesterov=False \n",
      "[CV]  lr=0.1, module__dropout=0, module__num_units=10, optimizer__nesterov=False, total=   0.3s\n",
      "[CV] lr=0.1, module__dropout=0, module__num_units=10, optimizer__nesterov=False \n",
      "[CV]  lr=0.1, module__dropout=0, module__num_units=10, optimizer__nesterov=False, total=   0.3s\n",
      "[CV] lr=0.1, module__dropout=0, module__num_units=10, optimizer__nesterov=False \n",
      "[CV]  lr=0.1, module__dropout=0, module__num_units=10, optimizer__nesterov=False, total=   0.3s\n",
      "[CV] lr=0.1, module__dropout=0, module__num_units=10, optimizer__nesterov=True \n",
      "[CV]  lr=0.1, module__dropout=0, module__num_units=10, optimizer__nesterov=True, total=   0.3s\n",
      "[CV] lr=0.1, module__dropout=0, module__num_units=10, optimizer__nesterov=True \n",
      "[CV]  lr=0.1, module__dropout=0, module__num_units=10, optimizer__nesterov=True, total=   0.3s\n",
      "[CV] lr=0.1, module__dropout=0, module__num_units=10, optimizer__nesterov=True \n",
      "[CV]  lr=0.1, module__dropout=0, module__num_units=10, optimizer__nesterov=True, total=   0.3s\n",
      "[CV] lr=0.1, module__dropout=0, module__num_units=20, optimizer__nesterov=False \n",
      "[CV]  lr=0.1, module__dropout=0, module__num_units=20, optimizer__nesterov=False, total=   0.3s\n",
      "[CV] lr=0.1, module__dropout=0, module__num_units=20, optimizer__nesterov=False \n",
      "[CV]  lr=0.1, module__dropout=0, module__num_units=20, optimizer__nesterov=False, total=   0.3s\n",
      "[CV] lr=0.1, module__dropout=0, module__num_units=20, optimizer__nesterov=False \n",
      "[CV]  lr=0.1, module__dropout=0, module__num_units=20, optimizer__nesterov=False, total=   0.3s\n",
      "[CV] lr=0.1, module__dropout=0, module__num_units=20, optimizer__nesterov=True \n",
      "[CV]  lr=0.1, module__dropout=0, module__num_units=20, optimizer__nesterov=True, total=   0.3s\n",
      "[CV] lr=0.1, module__dropout=0, module__num_units=20, optimizer__nesterov=True \n",
      "[CV]  lr=0.1, module__dropout=0, module__num_units=20, optimizer__nesterov=True, total=   0.3s\n",
      "[CV] lr=0.1, module__dropout=0, module__num_units=20, optimizer__nesterov=True \n",
      "[CV]  lr=0.1, module__dropout=0, module__num_units=20, optimizer__nesterov=True, total=   0.3s\n",
      "[CV] lr=0.1, module__dropout=0.5, module__num_units=10, optimizer__nesterov=False \n",
      "[CV]  lr=0.1, module__dropout=0.5, module__num_units=10, optimizer__nesterov=False, total=   0.3s\n",
      "[CV] lr=0.1, module__dropout=0.5, module__num_units=10, optimizer__nesterov=False \n",
      "[CV]  lr=0.1, module__dropout=0.5, module__num_units=10, optimizer__nesterov=False, total=   0.3s\n",
      "[CV] lr=0.1, module__dropout=0.5, module__num_units=10, optimizer__nesterov=False \n",
      "[CV]  lr=0.1, module__dropout=0.5, module__num_units=10, optimizer__nesterov=False, total=   0.3s\n",
      "[CV] lr=0.1, module__dropout=0.5, module__num_units=10, optimizer__nesterov=True \n",
      "[CV]  lr=0.1, module__dropout=0.5, module__num_units=10, optimizer__nesterov=True, total=   0.3s\n",
      "[CV] lr=0.1, module__dropout=0.5, module__num_units=10, optimizer__nesterov=True \n",
      "[CV]  lr=0.1, module__dropout=0.5, module__num_units=10, optimizer__nesterov=True, total=   0.3s\n",
      "[CV] lr=0.1, module__dropout=0.5, module__num_units=10, optimizer__nesterov=True \n",
      "[CV]  lr=0.1, module__dropout=0.5, module__num_units=10, optimizer__nesterov=True, total=   0.3s\n",
      "[CV] lr=0.1, module__dropout=0.5, module__num_units=20, optimizer__nesterov=False \n",
      "[CV]  lr=0.1, module__dropout=0.5, module__num_units=20, optimizer__nesterov=False, total=   0.3s\n",
      "[CV] lr=0.1, module__dropout=0.5, module__num_units=20, optimizer__nesterov=False \n",
      "[CV]  lr=0.1, module__dropout=0.5, module__num_units=20, optimizer__nesterov=False, total=   0.3s\n",
      "[CV] lr=0.1, module__dropout=0.5, module__num_units=20, optimizer__nesterov=False \n",
      "[CV]  lr=0.1, module__dropout=0.5, module__num_units=20, optimizer__nesterov=False, total=   0.3s\n",
      "[CV] lr=0.1, module__dropout=0.5, module__num_units=20, optimizer__nesterov=True \n",
      "[CV]  lr=0.1, module__dropout=0.5, module__num_units=20, optimizer__nesterov=True, total=   0.3s\n",
      "[CV] lr=0.1, module__dropout=0.5, module__num_units=20, optimizer__nesterov=True \n",
      "[CV]  lr=0.1, module__dropout=0.5, module__num_units=20, optimizer__nesterov=True, total=   0.3s\n",
      "[CV] lr=0.1, module__dropout=0.5, module__num_units=20, optimizer__nesterov=True \n",
      "[CV]  lr=0.1, module__dropout=0.5, module__num_units=20, optimizer__nesterov=True, total=   0.3s\n"
     ]
    },
    {
     "name": "stderr",
     "output_type": "stream",
     "text": [
      "[Parallel(n_jobs=1)]: Done  48 out of  48 | elapsed:   15.7s finished\n"
     ]
    },
    {
     "data": {
      "text/plain": [
       "GridSearchCV(cv=3, error_score='raise-deprecating',\n",
       "       estimator=<class 'skorch.classifier.NeuralNetClassifier'>[uninitialized](\n",
       "  module=<class '__main__.ClassifierModule'>,\n",
       "),\n",
       "       fit_params=None, iid='warn', n_jobs=None,\n",
       "       param_grid={'lr': [0.05, 0.1], 'module__num_units': [10, 20], 'module__dropout': [0, 0.5], 'optimizer__nesterov': [False, True]},\n",
       "       pre_dispatch='2*n_jobs', refit=False, return_train_score='warn',\n",
       "       scoring='accuracy', verbose=2)"
      ]
     },
     "execution_count": 41,
     "metadata": {},
     "output_type": "execute_result"
    }
   ],
   "source": [
    "gs.fit(X, y)"
   ]
  },
  {
   "cell_type": "code",
   "execution_count": 42,
   "metadata": {
    "scrolled": true
   },
   "outputs": [
    {
     "name": "stdout",
     "output_type": "stream",
     "text": [
      "0.862 {'lr': 0.05, 'module__dropout': 0, 'module__num_units': 20, 'optimizer__nesterov': False}\n"
     ]
    }
   ],
   "source": [
    "print(gs.best_score_, gs.best_params_)"
   ]
  },
  {
   "cell_type": "markdown",
   "metadata": {},
   "source": [
    "Of course, we could further nest the `NeuralNetClassifier` within an `sklearn Pipeline`, in which case we just prefix the parameter by the name of the net (e.g. `net__module__num_units`)."
   ]
  }
 ],
 "metadata": {
  "kernelspec": {
   "display_name": "Python 3",
   "language": "python",
   "name": "python3"
  },
  "language_info": {
   "codemirror_mode": {
    "name": "ipython",
    "version": 3
   },
   "file_extension": ".py",
   "mimetype": "text/x-python",
   "name": "python",
   "nbconvert_exporter": "python",
   "pygments_lexer": "ipython3",
   "version": "3.7.4"
  }
 },
 "nbformat": 4,
 "nbformat_minor": 2
}
